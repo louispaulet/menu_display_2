{
 "cells": [
  {
   "cell_type": "code",
   "execution_count": 2,
   "id": "6f732a68",
   "metadata": {},
   "outputs": [
    {
     "data": {
      "text/plain": [
       "['images_to_webp/input/Alpine_Heights.jpg',\n",
       " 'images_to_webp/input/Sakura_No_Hana.jpg',\n",
       " 'images_to_webp/input/Le_Lagon.jpg',\n",
       " 'images_to_webp/input/Island_Elysium.jpg',\n",
       " 'images_to_webp/input/Sushi_Zenkai.jpg',\n",
       " 'images_to_webp/input/Majani.jpg',\n",
       " \"images_to_webp/input/Fisherman's_Grill.jpg\",\n",
       " 'images_to_webp/input/The_Imperial_Room.jpg',\n",
       " 'images_to_webp/input/Le_Paradis_des_Douceurs.jpg',\n",
       " 'images_to_webp/input/Verdant_Elegance.jpg',\n",
       " 'images_to_webp/input/Sarvottam.jpg',\n",
       " 'images_to_webp/input/Le_Jardin_Végétal.jpg',\n",
       " 'images_to_webp/input/Le_Festin_Opulent.jpg',\n",
       " \"images_to_webp/input/Kai_'Olu.jpg\",\n",
       " 'images_to_webp/input/La_Cucina_dei_Sogni.jpg',\n",
       " 'images_to_webp/input/Sol_y_Sakura.jpg',\n",
       " \"images_to_webp/input/Le_Papillon_d'Or.jpg\",\n",
       " 'images_to_webp/input/Lab_de_Sabores.jpg',\n",
       " 'images_to_webp/input/Aurora_Borealis.jpg',\n",
       " 'images_to_webp/input/La_Dame_de_Pic.jpg',\n",
       " 'images_to_webp/input/Nordic_Essence.jpg',\n",
       " 'images_to_webp/input/La_Serenissima.jpg',\n",
       " 'images_to_webp/input/La_Esencia.jpg',\n",
       " 'images_to_webp/input/Inti_Raymi.jpg',\n",
       " 'images_to_webp/input/Cielo_Azul.jpg',\n",
       " 'images_to_webp/input/Le_Jardin_Zen.jpg',\n",
       " 'images_to_webp/input/The_Red_Planet_Bistro.jpg',\n",
       " 'images_to_webp/input/La_Dolce_Vita.jpg',\n",
       " 'images_to_webp/input/Alcazar.jpg',\n",
       " 'images_to_webp/input/Nordic_Haven.jpg',\n",
       " \"images_to_webp/input/L'Étoile_des_Neiges.jpg\",\n",
       " 'images_to_webp/input/Sen_Vàng.jpg',\n",
       " 'images_to_webp/input/Deutscher_Geschmack.jpg',\n",
       " 'images_to_webp/input/Pescado_Sagrado.jpg',\n",
       " 'images_to_webp/input/Le_Château_des_Choux.jpg',\n",
       " 'images_to_webp/input/Taman_Sari.jpg',\n",
       " 'images_to_webp/input/Parkview_Elegance.jpg',\n",
       " 'images_to_webp/input/The_Golden_Aegean.jpg',\n",
       " \"images_to_webp/input/L'Etoile_d'Or.jpg\",\n",
       " 'images_to_webp/input/Imperial_Caviar.jpg',\n",
       " 'images_to_webp/input/Galactic_Delights.jpg',\n",
       " 'images_to_webp/input/The_American_Tapestry.jpg']"
      ]
     },
     "execution_count": 2,
     "metadata": {},
     "output_type": "execute_result"
    }
   ],
   "source": [
    "from glob import glob\n",
    "\n",
    "files_to_convert = glob('images_to_webp/input/*.jpg')\n",
    "files_to_convert"
   ]
  },
  {
   "cell_type": "code",
   "execution_count": 3,
   "id": "ef40ed08",
   "metadata": {},
   "outputs": [
    {
     "data": {
      "text/plain": [
       "['images_to_webp/output/Alpine_Heights.webp',\n",
       " 'images_to_webp/output/Sakura_No_Hana.webp',\n",
       " 'images_to_webp/output/Le_Lagon.webp',\n",
       " 'images_to_webp/output/Island_Elysium.webp',\n",
       " 'images_to_webp/output/Sushi_Zenkai.webp',\n",
       " 'images_to_webp/output/Majani.webp',\n",
       " \"images_to_webp/output/Fisherman's_Grill.webp\",\n",
       " 'images_to_webp/output/The_Imperial_Room.webp',\n",
       " 'images_to_webp/output/Le_Paradis_des_Douceurs.webp',\n",
       " 'images_to_webp/output/Verdant_Elegance.webp',\n",
       " 'images_to_webp/output/Sarvottam.webp',\n",
       " 'images_to_webp/output/Le_Jardin_Végétal.webp',\n",
       " 'images_to_webp/output/Le_Festin_Opulent.webp',\n",
       " \"images_to_webp/output/Kai_'Olu.webp\",\n",
       " 'images_to_webp/output/La_Cucina_dei_Sogni.webp',\n",
       " 'images_to_webp/output/Sol_y_Sakura.webp',\n",
       " \"images_to_webp/output/Le_Papillon_d'Or.webp\",\n",
       " 'images_to_webp/output/Lab_de_Sabores.webp',\n",
       " 'images_to_webp/output/Aurora_Borealis.webp',\n",
       " 'images_to_webp/output/La_Dame_de_Pic.webp',\n",
       " 'images_to_webp/output/Nordic_Essence.webp',\n",
       " 'images_to_webp/output/La_Serenissima.webp',\n",
       " 'images_to_webp/output/La_Esencia.webp',\n",
       " 'images_to_webp/output/Inti_Raymi.webp',\n",
       " 'images_to_webp/output/Cielo_Azul.webp',\n",
       " 'images_to_webp/output/Le_Jardin_Zen.webp',\n",
       " 'images_to_webp/output/The_Red_Planet_Bistro.webp',\n",
       " 'images_to_webp/output/La_Dolce_Vita.webp',\n",
       " 'images_to_webp/output/Alcazar.webp',\n",
       " 'images_to_webp/output/Nordic_Haven.webp',\n",
       " \"images_to_webp/output/L'Étoile_des_Neiges.webp\",\n",
       " 'images_to_webp/output/Sen_Vàng.webp',\n",
       " 'images_to_webp/output/Deutscher_Geschmack.webp',\n",
       " 'images_to_webp/output/Pescado_Sagrado.webp',\n",
       " 'images_to_webp/output/Le_Château_des_Choux.webp',\n",
       " 'images_to_webp/output/Taman_Sari.webp',\n",
       " 'images_to_webp/output/Parkview_Elegance.webp',\n",
       " 'images_to_webp/output/The_Golden_Aegean.webp',\n",
       " \"images_to_webp/output/L'Etoile_d'Or.webp\",\n",
       " 'images_to_webp/output/Imperial_Caviar.webp',\n",
       " 'images_to_webp/output/Galactic_Delights.webp',\n",
       " 'images_to_webp/output/The_American_Tapestry.webp']"
      ]
     },
     "execution_count": 3,
     "metadata": {},
     "output_type": "execute_result"
    }
   ],
   "source": [
    "output_filenames = [filename.replace('/input/', '/output/') for filename in files_to_convert]\n",
    "output_filenames = [filename.replace('.jpg', '.webp') for filename in output_filenames]\n",
    "output_filenames"
   ]
  },
  {
   "cell_type": "code",
   "execution_count": 6,
   "id": "c5af1b4d",
   "metadata": {},
   "outputs": [],
   "source": [
    "from PIL import Image\n",
    "import os\n",
    "\n",
    "def convert_jpg_to_webp(input_dir, output_dir):\n",
    "    # Open the input image\n",
    "    img = Image.open(input_dir)\n",
    "    img = img.resize((320, 320), Image.Resampling.LANCZOS)\n",
    "\n",
    "    \n",
    "    # Convert the image to webp format and save it\n",
    "    output_file = os.path.splitext(os.path.basename(input_dir))[0] + '.webp'\n",
    "    \n",
    "    img.save(output_dir, 'WEBP')\n",
    "    print(f\"Image saved as {output_dir}\")\n"
   ]
  },
  {
   "cell_type": "code",
   "execution_count": 7,
   "id": "c80b972a",
   "metadata": {},
   "outputs": [
    {
     "data": {
      "application/vnd.jupyter.widget-view+json": {
       "model_id": "650618c06d2b44d6834e01d2edf5c3cb",
       "version_major": 2,
       "version_minor": 0
      },
      "text/plain": [
       "  0%|          | 0/42 [00:00<?, ?it/s]"
      ]
     },
     "metadata": {},
     "output_type": "display_data"
    },
    {
     "name": "stdout",
     "output_type": "stream",
     "text": [
      "Image saved as images_to_webp/output/Alpine_Heights.webp\n",
      "Image saved as images_to_webp/output/Sakura_No_Hana.webp\n",
      "Image saved as images_to_webp/output/Le_Lagon.webp\n",
      "Image saved as images_to_webp/output/Island_Elysium.webp\n",
      "Image saved as images_to_webp/output/Sushi_Zenkai.webp\n",
      "Image saved as images_to_webp/output/Majani.webp\n",
      "Image saved as images_to_webp/output/Fisherman's_Grill.webp\n",
      "Image saved as images_to_webp/output/The_Imperial_Room.webp\n",
      "Image saved as images_to_webp/output/Le_Paradis_des_Douceurs.webp\n",
      "Image saved as images_to_webp/output/Verdant_Elegance.webp\n",
      "Image saved as images_to_webp/output/Sarvottam.webp\n",
      "Image saved as images_to_webp/output/Le_Jardin_Végétal.webp\n",
      "Image saved as images_to_webp/output/Le_Festin_Opulent.webp\n",
      "Image saved as images_to_webp/output/Kai_'Olu.webp\n",
      "Image saved as images_to_webp/output/La_Cucina_dei_Sogni.webp\n",
      "Image saved as images_to_webp/output/Sol_y_Sakura.webp\n",
      "Image saved as images_to_webp/output/Le_Papillon_d'Or.webp\n",
      "Image saved as images_to_webp/output/Lab_de_Sabores.webp\n",
      "Image saved as images_to_webp/output/Aurora_Borealis.webp\n",
      "Image saved as images_to_webp/output/La_Dame_de_Pic.webp\n",
      "Image saved as images_to_webp/output/Nordic_Essence.webp\n",
      "Image saved as images_to_webp/output/La_Serenissima.webp\n",
      "Image saved as images_to_webp/output/La_Esencia.webp\n",
      "Image saved as images_to_webp/output/Inti_Raymi.webp\n",
      "Image saved as images_to_webp/output/Cielo_Azul.webp\n",
      "Image saved as images_to_webp/output/Le_Jardin_Zen.webp\n",
      "Image saved as images_to_webp/output/The_Red_Planet_Bistro.webp\n",
      "Image saved as images_to_webp/output/La_Dolce_Vita.webp\n",
      "Image saved as images_to_webp/output/Alcazar.webp\n",
      "Image saved as images_to_webp/output/Nordic_Haven.webp\n",
      "Image saved as images_to_webp/output/L'Étoile_des_Neiges.webp\n",
      "Image saved as images_to_webp/output/Sen_Vàng.webp\n",
      "Image saved as images_to_webp/output/Deutscher_Geschmack.webp\n",
      "Image saved as images_to_webp/output/Pescado_Sagrado.webp\n",
      "Image saved as images_to_webp/output/Le_Château_des_Choux.webp\n",
      "Image saved as images_to_webp/output/Taman_Sari.webp\n",
      "Image saved as images_to_webp/output/Parkview_Elegance.webp\n",
      "Image saved as images_to_webp/output/The_Golden_Aegean.webp\n",
      "Image saved as images_to_webp/output/L'Etoile_d'Or.webp\n",
      "Image saved as images_to_webp/output/Imperial_Caviar.webp\n",
      "Image saved as images_to_webp/output/Galactic_Delights.webp\n",
      "Image saved as images_to_webp/output/The_American_Tapestry.webp\n"
     ]
    }
   ],
   "source": [
    "from tqdm.auto import tqdm\n",
    "\n",
    "for input_file, filename in tqdm(zip(files_to_convert, output_filenames), total=len(files_to_convert)):\n",
    "    convert_jpg_to_webp(input_file, filename)"
   ]
  },
  {
   "cell_type": "code",
   "execution_count": null,
   "id": "3d175455",
   "metadata": {},
   "outputs": [],
   "source": []
  }
 ],
 "metadata": {
  "kernelspec": {
   "display_name": "Python 3 (ipykernel)",
   "language": "python",
   "name": "python3"
  },
  "language_info": {
   "codemirror_mode": {
    "name": "ipython",
    "version": 3
   },
   "file_extension": ".py",
   "mimetype": "text/x-python",
   "name": "python",
   "nbconvert_exporter": "python",
   "pygments_lexer": "ipython3",
   "version": "3.10.12"
  }
 },
 "nbformat": 4,
 "nbformat_minor": 5
}
