{
 "cells": [
  {
   "cell_type": "markdown",
   "id": "8280e404",
   "metadata": {},
   "source": [
    "# Generate images for the restaurant   \n",
    "\n",
    "After the dishes, we also generate images for the restaurant appearance."
   ]
  },
  {
   "cell_type": "markdown",
   "id": "57e7f50a",
   "metadata": {},
   "source": [
    "## optional: install more libs"
   ]
  },
  {
   "cell_type": "code",
   "execution_count": 1,
   "id": "09d188d2",
   "metadata": {},
   "outputs": [
    {
     "name": "stdout",
     "output_type": "stream",
     "text": [
      "hello\n"
     ]
    }
   ],
   "source": [
    "print('hello')"
   ]
  },
  {
   "cell_type": "code",
   "execution_count": 1,
   "id": "7683351d",
   "metadata": {},
   "outputs": [],
   "source": [
    "# install diffusers from source if needed\n",
    "# as the fluxpipeline is brand new\n",
    "\n",
    "# !pip install git+https://github.com/huggingface/diffusers"
   ]
  },
  {
   "cell_type": "code",
   "execution_count": 2,
   "id": "b9b3b8d8",
   "metadata": {},
   "outputs": [],
   "source": [
    "# !pip uninstall transformer-engine -y"
   ]
  },
  {
   "cell_type": "code",
   "execution_count": 3,
   "id": "db292f3e",
   "metadata": {},
   "outputs": [],
   "source": [
    "# !pip install transformers"
   ]
  },
  {
   "cell_type": "code",
   "execution_count": 4,
   "id": "9acb8d4b",
   "metadata": {},
   "outputs": [],
   "source": [
    "# !pip install sentencepiece"
   ]
  },
  {
   "cell_type": "code",
   "execution_count": 5,
   "id": "d7bacceb",
   "metadata": {},
   "outputs": [],
   "source": [
    "# from huggingface_hub import notebook_login\n",
    "# notebook_login()"
   ]
  },
  {
   "cell_type": "code",
   "execution_count": 6,
   "id": "a54d0602",
   "metadata": {},
   "outputs": [],
   "source": [
    "# !pip uninstall apex -y"
   ]
  },
  {
   "cell_type": "code",
   "execution_count": 8,
   "id": "a49a2ac5",
   "metadata": {},
   "outputs": [],
   "source": [
    "# !pip install optimum-quanto"
   ]
  },
  {
   "cell_type": "code",
   "execution_count": 9,
   "id": "6a1ba64d",
   "metadata": {},
   "outputs": [],
   "source": [
    "# !pip install -U torchvision"
   ]
  },
  {
   "cell_type": "code",
   "execution_count": 10,
   "id": "2a07920e",
   "metadata": {},
   "outputs": [],
   "source": [
    "# !pip3 install -U xformers --index-url https://download.pytorch.org/whl/cu121"
   ]
  },
  {
   "cell_type": "markdown",
   "id": "c43af679",
   "metadata": {},
   "source": [
    "### setup pipeline"
   ]
  },
  {
   "cell_type": "code",
   "execution_count": 5,
   "id": "97b72250",
   "metadata": {},
   "outputs": [
    {
     "name": "stderr",
     "output_type": "stream",
     "text": [
      "/usr/local/lib/python3.10/dist-packages/xformers/ops/fmha/flash.py:211: FutureWarning: `torch.library.impl_abstract` was renamed to `torch.library.register_fake`. Please use that instead; we will remove `torch.library.impl_abstract` in a future version of PyTorch.\n",
      "  @torch.library.impl_abstract(\"xformers_flash::flash_fwd\")\n",
      "/usr/local/lib/python3.10/dist-packages/xformers/ops/fmha/flash.py:344: FutureWarning: `torch.library.impl_abstract` was renamed to `torch.library.register_fake`. Please use that instead; we will remove `torch.library.impl_abstract` in a future version of PyTorch.\n",
      "  @torch.library.impl_abstract(\"xformers_flash::flash_bwd\")\n"
     ]
    },
    {
     "data": {
      "application/vnd.jupyter.widget-view+json": {
       "model_id": "35dc1756024a4ee1a83fb8341aeb4077",
       "version_major": 2,
       "version_minor": 0
      },
      "text/plain": [
       "Downloading shards:   0%|          | 0/2 [00:00<?, ?it/s]"
      ]
     },
     "metadata": {},
     "output_type": "display_data"
    },
    {
     "data": {
      "application/vnd.jupyter.widget-view+json": {
       "model_id": "2a2ed7d919ec46a098a4223e07cc361c",
       "version_major": 2,
       "version_minor": 0
      },
      "text/plain": [
       "Loading checkpoint shards:   0%|          | 0/2 [00:00<?, ?it/s]"
      ]
     },
     "metadata": {},
     "output_type": "display_data"
    },
    {
     "data": {
      "application/vnd.jupyter.widget-view+json": {
       "model_id": "44441d6c36fa49028b14ddf54f72b316",
       "version_major": 2,
       "version_minor": 0
      },
      "text/plain": [
       "Loading pipeline components...:   0%|          | 0/5 [00:00<?, ?it/s]"
      ]
     },
     "metadata": {},
     "output_type": "display_data"
    },
    {
     "name": "stderr",
     "output_type": "stream",
     "text": [
      "You set `add_prefix_space`. The tokenizer needs to be converted from the slow tokenizers\n"
     ]
    }
   ],
   "source": [
    "import torch\n",
    "from diffusers import FluxTransformer2DModel, FluxPipeline\n",
    "from transformers import T5EncoderModel, CLIPTextModel\n",
    "from optimum.quanto import freeze, qfloat8, quantize\n",
    "\n",
    "bfl_repo = \"black-forest-labs/FLUX.1-dev\"\n",
    "dtype = torch.bfloat16\n",
    "\n",
    "transformer = FluxTransformer2DModel.from_single_file(\"https://huggingface.co/Kijai/flux-fp8/blob/main/flux1-dev-fp8.safetensors\", torch_dtype=dtype)\n",
    "quantize(transformer, weights=qfloat8)\n",
    "freeze(transformer)\n",
    "\n",
    "text_encoder_2 = T5EncoderModel.from_pretrained(bfl_repo, subfolder=\"text_encoder_2\", torch_dtype=dtype)\n",
    "quantize(text_encoder_2, weights=qfloat8)\n",
    "freeze(text_encoder_2)\n",
    "\n",
    "pipe = FluxPipeline.from_pretrained(bfl_repo, transformer=None, text_encoder_2=None, torch_dtype=dtype)\n",
    "pipe.transformer = transformer\n",
    "pipe.text_encoder_2 = text_encoder_2\n",
    "\n",
    "pipe.enable_model_cpu_offload()\n",
    "\n",
    "# prompt = \"A cat holding a sign that says hello world\"\n",
    "# image = pipe(\n",
    "#     prompt,\n",
    "#     guidance_scale=1.5,\n",
    "#     height=1024,\n",
    "#     width=1024,\n",
    "#     output_type=\"pil\",\n",
    "#     num_inference_steps=20,\n",
    "#     generator=torch.Generator(\"cpu\").manual_seed(0)\n",
    "# ).images[0]\n",
    "\n",
    "# image.save(\"flux-fp8-dev.png\")"
   ]
  },
  {
   "cell_type": "markdown",
   "id": "a42aedd2",
   "metadata": {},
   "source": [
    "### test pipeline"
   ]
  },
  {
   "cell_type": "code",
   "execution_count": 12,
   "id": "de4c7a94",
   "metadata": {},
   "outputs": [],
   "source": [
    "# prompt = \"A cat holding a sign that says 'i am stupid'\"\n",
    "# image = pipe(\n",
    "#     prompt,\n",
    "#     guidance_scale=1.5,\n",
    "#     height=1024,\n",
    "#     width=1024,\n",
    "#     output_type=\"pil\",\n",
    "#     num_inference_steps=20,\n",
    "#     generator=torch.Generator(\"cpu\").manual_seed(0)\n",
    "# ).images[0]\n",
    "\n",
    "# image.save(\"flux-fp8-dev-2.png\")"
   ]
  },
  {
   "cell_type": "code",
   "execution_count": 13,
   "id": "26bc824d",
   "metadata": {},
   "outputs": [],
   "source": [
    "# prompt = \"A cat holding a sign that says 'i love cheese'\"\n",
    "# image = pipe(\n",
    "#     prompt,\n",
    "#     guidance_scale=1.5,\n",
    "#     height=1024,\n",
    "#     width=1024,\n",
    "#     output_type=\"pil\",\n",
    "#     num_inference_steps=20,\n",
    "#     generator=torch.Generator(\"cpu\").manual_seed(0)\n",
    "# ).images[0]\n",
    "\n",
    "# image.save(\"flux-fp8-dev-3.png\")"
   ]
  },
  {
   "cell_type": "code",
   "execution_count": 14,
   "id": "a2e571f1",
   "metadata": {
    "scrolled": true
   },
   "outputs": [],
   "source": [
    "# prompt = \"picture of a delicious cheeseburger with fries on the side, in the forest, nature background\"\n",
    "# image = pipe(\n",
    "#     prompt,\n",
    "#     guidance_scale=1.5,\n",
    "#     height=1024,\n",
    "#     width=1024,\n",
    "#     output_type=\"pil\",\n",
    "#     num_inference_steps=20,\n",
    "#     generator=torch.Generator(\"cpu\").manual_seed(0)\n",
    "# ).images[0]\n",
    "\n",
    "# image.save(\"flux-fp8-dev-4.png\")"
   ]
  },
  {
   "cell_type": "code",
   "execution_count": 15,
   "id": "e2636d56",
   "metadata": {},
   "outputs": [],
   "source": [
    "# prompt = \"Amuse-Bouche Crispy Parmesan waffle with tomato and basil gelée, 4k food photography, top down picture of a plate, michelin starred dish\"\n",
    "# image = pipe(\n",
    "#     prompt,\n",
    "#     guidance_scale=1.5,\n",
    "#     height=1024,\n",
    "#     width=1024,\n",
    "#     output_type=\"pil\",\n",
    "#     num_inference_steps=25,\n",
    "#     generator=torch.Generator(\"cpu\").manual_seed(0)\n",
    "# ).images[0]\n",
    "\n",
    "# image.save(\"food-test-2.png\")"
   ]
  },
  {
   "cell_type": "code",
   "execution_count": 5,
   "id": "cbe13a6a",
   "metadata": {},
   "outputs": [],
   "source": [
    "# prompt = \"L'Etoile d'Or offers a luxurious and intimate dining experience, adorned with opulent gold accents, crystal chandeliers, and elegant silk drapery. The soft lighting and plush velvet seating create an atmosphere of romance and sophistication, while the floor-to-ceiling windows offer breathtaking views of the Eiffel Tower.\"\n",
    "# image = pipe(\n",
    "#     prompt,\n",
    "#     guidance_scale=2,\n",
    "#     height=1024,\n",
    "#     width=1024,\n",
    "#     output_type=\"pil\",\n",
    "#     num_inference_steps=25,\n",
    "#     generator=torch.Generator(\"cpu\").manual_seed(0)\n",
    "# ).images[0]\n",
    "\n",
    "# image.save(\"restaurant-test-6.png\")"
   ]
  },
  {
   "cell_type": "markdown",
   "id": "a1f37da8",
   "metadata": {},
   "source": [
    "We find that 25 steps with the above prompt template is the ideal config to run all 288 food prompts.  "
   ]
  },
  {
   "cell_type": "markdown",
   "id": "fb496791",
   "metadata": {},
   "source": [
    "### Process all 41 prompts\n",
    "\n",
    "We load a datasets of prompts and filenames and pass it to the image generation function"
   ]
  },
  {
   "cell_type": "code",
   "execution_count": 2,
   "id": "a79e6f0e",
   "metadata": {},
   "outputs": [],
   "source": [
    "# we set the seed to a fixed 42\n",
    "def from_prompt_to_file(prompt, filename):\n",
    "    image = pipe(\n",
    "        prompt,\n",
    "        guidance_scale=1.5,\n",
    "        height=1024,\n",
    "        width=1024,\n",
    "        output_type=\"pil\",\n",
    "        num_inference_steps=25,\n",
    "        generator=torch.Generator(\"cpu\").manual_seed(42)\n",
    "    ).images[0]\n",
    "\n",
    "    image.save('images/'+filename)"
   ]
  },
  {
   "cell_type": "code",
   "execution_count": 7,
   "id": "fae4041d",
   "metadata": {},
   "outputs": [
    {
     "data": {
      "text/html": [
       "<div>\n",
       "<style scoped>\n",
       "    .dataframe tbody tr th:only-of-type {\n",
       "        vertical-align: middle;\n",
       "    }\n",
       "\n",
       "    .dataframe tbody tr th {\n",
       "        vertical-align: top;\n",
       "    }\n",
       "\n",
       "    .dataframe thead th {\n",
       "        text-align: right;\n",
       "    }\n",
       "</style>\n",
       "<table border=\"1\" class=\"dataframe\">\n",
       "  <thead>\n",
       "    <tr style=\"text-align: right;\">\n",
       "      <th></th>\n",
       "      <th>prompt</th>\n",
       "      <th>filename</th>\n",
       "    </tr>\n",
       "  </thead>\n",
       "  <tbody>\n",
       "    <tr>\n",
       "      <th>0</th>\n",
       "      <td>L'Etoile d'Or offers a luxurious and intimate ...</td>\n",
       "      <td>L'Etoile_d'Or.jpg</td>\n",
       "    </tr>\n",
       "    <tr>\n",
       "      <th>1</th>\n",
       "      <td>Sakura No Hana provides an exquisite and seren...</td>\n",
       "      <td>Sakura_No_Hana.jpg</td>\n",
       "    </tr>\n",
       "    <tr>\n",
       "      <th>2</th>\n",
       "      <td>Taman Sari, meaning 'Water Garden' in Indonesi...</td>\n",
       "      <td>Taman_Sari.jpg</td>\n",
       "    </tr>\n",
       "    <tr>\n",
       "      <th>3</th>\n",
       "      <td>Le Lagon offers an unparalleled tropical dinin...</td>\n",
       "      <td>Le_Lagon.jpg</td>\n",
       "    </tr>\n",
       "    <tr>\n",
       "      <th>4</th>\n",
       "      <td>Inti Raymi, named after the Inca festival cele...</td>\n",
       "      <td>Inti_Raymi.jpg</td>\n",
       "    </tr>\n",
       "  </tbody>\n",
       "</table>\n",
       "</div>"
      ],
      "text/plain": [
       "                                              prompt            filename\n",
       "0  L'Etoile d'Or offers a luxurious and intimate ...   L'Etoile_d'Or.jpg\n",
       "1  Sakura No Hana provides an exquisite and seren...  Sakura_No_Hana.jpg\n",
       "2  Taman Sari, meaning 'Water Garden' in Indonesi...      Taman_Sari.jpg\n",
       "3  Le Lagon offers an unparalleled tropical dinin...        Le_Lagon.jpg\n",
       "4  Inti Raymi, named after the Inca festival cele...      Inti_Raymi.jpg"
      ]
     },
     "execution_count": 7,
     "metadata": {},
     "output_type": "execute_result"
    }
   ],
   "source": [
    "# load the prompt dataset\n",
    "import pandas as pd\n",
    "\n",
    "prompt_df = pd.read_csv('restaurant_prompts_and_filenames.csv', index_col=0)\n",
    "prompt_df.head(5)"
   ]
  },
  {
   "cell_type": "code",
   "execution_count": 8,
   "id": "862514c5",
   "metadata": {},
   "outputs": [
    {
     "data": {
      "application/vnd.jupyter.widget-view+json": {
       "model_id": "db7a7f0fa6814db8b0a4b10ded5defd0",
       "version_major": 2,
       "version_minor": 0
      },
      "text/plain": [
       "  0%|          | 0/42 [00:00<?, ?it/s]"
      ]
     },
     "metadata": {},
     "output_type": "display_data"
    },
    {
     "data": {
      "application/vnd.jupyter.widget-view+json": {
       "model_id": "c88f6ac2254240e980a5951448b2adfd",
       "version_major": 2,
       "version_minor": 0
      },
      "text/plain": [
       "  0%|          | 0/25 [00:00<?, ?it/s]"
      ]
     },
     "metadata": {},
     "output_type": "display_data"
    },
    {
     "data": {
      "application/vnd.jupyter.widget-view+json": {
       "model_id": "1d5010c43b39483fb89d76ac9dc761ed",
       "version_major": 2,
       "version_minor": 0
      },
      "text/plain": [
       "  0%|          | 0/25 [00:00<?, ?it/s]"
      ]
     },
     "metadata": {},
     "output_type": "display_data"
    },
    {
     "data": {
      "application/vnd.jupyter.widget-view+json": {
       "model_id": "29d5df6ed6c24e1cb53f437890565da0",
       "version_major": 2,
       "version_minor": 0
      },
      "text/plain": [
       "  0%|          | 0/25 [00:00<?, ?it/s]"
      ]
     },
     "metadata": {},
     "output_type": "display_data"
    },
    {
     "name": "stderr",
     "output_type": "stream",
     "text": [
      "Token indices sequence length is longer than the specified maximum sequence length for this model (83 > 77). Running this sequence through the model will result in indexing errors\n",
      "The following part of your input was truncated because CLIP can only handle sequences up to 77 tokens: ['views of mount otemanu.']\n"
     ]
    },
    {
     "data": {
      "application/vnd.jupyter.widget-view+json": {
       "model_id": "b4c7a5b060c64c79976aa54443e82346",
       "version_major": 2,
       "version_minor": 0
      },
      "text/plain": [
       "  0%|          | 0/25 [00:00<?, ?it/s]"
      ]
     },
     "metadata": {},
     "output_type": "display_data"
    },
    {
     "name": "stderr",
     "output_type": "stream",
     "text": [
      "The following part of your input was truncated because CLIP can only handle sequences up to 77 tokens: [\"artwork pay homage to the region's indigenous roots.\"]\n"
     ]
    },
    {
     "data": {
      "application/vnd.jupyter.widget-view+json": {
       "model_id": "acbb918a66264343a50f9393f89d86ee",
       "version_major": 2,
       "version_minor": 0
      },
      "text/plain": [
       "  0%|          | 0/25 [00:00<?, ?it/s]"
      ]
     },
     "metadata": {},
     "output_type": "display_data"
    },
    {
     "name": "stderr",
     "output_type": "stream",
     "text": [
      "The following part of your input was truncated because CLIP can only handle sequences up to 77 tokens: ['wildlife that inhabits it.']\n"
     ]
    },
    {
     "data": {
      "application/vnd.jupyter.widget-view+json": {
       "model_id": "6a310eaf05ae465e8701619dcdc3b481",
       "version_major": 2,
       "version_minor": 0
      },
      "text/plain": [
       "  0%|          | 0/25 [00:00<?, ?it/s]"
      ]
     },
     "metadata": {},
     "output_type": "display_data"
    },
    {
     "name": "stderr",
     "output_type": "stream",
     "text": [
      "The following part of your input was truncated because CLIP can only handle sequences up to 77 tokens: ['wines.']\n"
     ]
    },
    {
     "data": {
      "application/vnd.jupyter.widget-view+json": {
       "model_id": "bfb4591efa214c39bfd10dccf14d644a",
       "version_major": 2,
       "version_minor": 0
      },
      "text/plain": [
       "  0%|          | 0/25 [00:00<?, ?it/s]"
      ]
     },
     "metadata": {},
     "output_type": "display_data"
    },
    {
     "name": "stderr",
     "output_type": "stream",
     "text": [
      "The following part of your input was truncated because CLIP can only handle sequences up to 77 tokens: ['enchanting atmosphere in which to savor the exquisite dessert creations and fine wine pairings.']\n"
     ]
    },
    {
     "data": {
      "application/vnd.jupyter.widget-view+json": {
       "model_id": "9bce286e5ec149828d78504aa76e7b6d",
       "version_major": 2,
       "version_minor": 0
      },
      "text/plain": [
       "  0%|          | 0/25 [00:00<?, ?it/s]"
      ]
     },
     "metadata": {},
     "output_type": "display_data"
    },
    {
     "name": "stderr",
     "output_type": "stream",
     "text": [
      "The following part of your input was truncated because CLIP can only handle sequences up to 77 tokens: ['enchanting alpine landscape.']\n"
     ]
    },
    {
     "data": {
      "application/vnd.jupyter.widget-view+json": {
       "model_id": "8ab7f140b9f3470f8b82b68a38cca3f9",
       "version_major": 2,
       "version_minor": 0
      },
      "text/plain": [
       "  0%|          | 0/25 [00:00<?, ?it/s]"
      ]
     },
     "metadata": {},
     "output_type": "display_data"
    },
    {
     "name": "stderr",
     "output_type": "stream",
     "text": [
      "The following part of your input was truncated because CLIP can only handle sequences up to 77 tokens: ['ambiance in which to indulge in the extraordinary tasting menu and expertly curated wine pairings.']\n"
     ]
    },
    {
     "data": {
      "application/vnd.jupyter.widget-view+json": {
       "model_id": "b8bfb0d497c64a6b9bb9a2697d1d9fa4",
       "version_major": 2,
       "version_minor": 0
      },
      "text/plain": [
       "  0%|          | 0/25 [00:00<?, ?it/s]"
      ]
     },
     "metadata": {},
     "output_type": "display_data"
    },
    {
     "name": "stderr",
     "output_type": "stream",
     "text": [
      "The following part of your input was truncated because CLIP can only handle sequences up to 77 tokens: ['wine pairings.']\n"
     ]
    },
    {
     "data": {
      "application/vnd.jupyter.widget-view+json": {
       "model_id": "86043d183a2446b0b6380bd522966f64",
       "version_major": 2,
       "version_minor": 0
      },
      "text/plain": [
       "  0%|          | 0/25 [00:00<?, ?it/s]"
      ]
     },
     "metadata": {},
     "output_type": "display_data"
    },
    {
     "name": "stderr",
     "output_type": "stream",
     "text": [
      "The following part of your input was truncated because CLIP can only handle sequences up to 77 tokens: ['. enjoy the specially crafted tasting menu, showcasing the best of both earth - imported and mars - grown ingredients, paired with an exquisite selection of interstellar wines.']\n"
     ]
    },
    {
     "data": {
      "application/vnd.jupyter.widget-view+json": {
       "model_id": "ab62f66dbb8e4003ac6cb39d565400a9",
       "version_major": 2,
       "version_minor": 0
      },
      "text/plain": [
       "  0%|          | 0/25 [00:00<?, ?it/s]"
      ]
     },
     "metadata": {},
     "output_type": "display_data"
    },
    {
     "name": "stderr",
     "output_type": "stream",
     "text": [
      "The following part of your input was truncated because CLIP can only handle sequences up to 77 tokens: ['in the meticulously crafted tasting menu, showcasing innovative vegan cuisine, and savor the expertly curated wine pairings from a world - class sommelier.']\n"
     ]
    },
    {
     "data": {
      "application/vnd.jupyter.widget-view+json": {
       "model_id": "79b608bbd7b74e70b1084b885c47c310",
       "version_major": 2,
       "version_minor": 0
      },
      "text/plain": [
       "  0%|          | 0/25 [00:00<?, ?it/s]"
      ]
     },
     "metadata": {},
     "output_type": "display_data"
    },
    {
     "name": "stderr",
     "output_type": "stream",
     "text": [
      "The following part of your input was truncated because CLIP can only handle sequences up to 77 tokens: [\", superb cuisine, and breathtaking setting, fisherman's grill is a dining experience not to be missed.\"]\n"
     ]
    },
    {
     "data": {
      "application/vnd.jupyter.widget-view+json": {
       "model_id": "72fe43164007490baa74d6f486bc0687",
       "version_major": 2,
       "version_minor": 0
      },
      "text/plain": [
       "  0%|          | 0/25 [00:00<?, ?it/s]"
      ]
     },
     "metadata": {},
     "output_type": "display_data"
    },
    {
     "data": {
      "application/vnd.jupyter.widget-view+json": {
       "model_id": "46f18c81947a46f099b613e0abf59847",
       "version_major": 2,
       "version_minor": 0
      },
      "text/plain": [
       "  0%|          | 0/25 [00:00<?, ?it/s]"
      ]
     },
     "metadata": {},
     "output_type": "display_data"
    },
    {
     "data": {
      "application/vnd.jupyter.widget-view+json": {
       "model_id": "bccdb0fa893c45b98b5e43942b3b05e1",
       "version_major": 2,
       "version_minor": 0
      },
      "text/plain": [
       "  0%|          | 0/25 [00:00<?, ?it/s]"
      ]
     },
     "metadata": {},
     "output_type": "display_data"
    },
    {
     "data": {
      "application/vnd.jupyter.widget-view+json": {
       "model_id": "314547241047403794fe0f3c3e303f19",
       "version_major": 2,
       "version_minor": 0
      },
      "text/plain": [
       "  0%|          | 0/25 [00:00<?, ?it/s]"
      ]
     },
     "metadata": {},
     "output_type": "display_data"
    },
    {
     "data": {
      "application/vnd.jupyter.widget-view+json": {
       "model_id": "799dd86a0f22403ea1614193c79fd8c7",
       "version_major": 2,
       "version_minor": 0
      },
      "text/plain": [
       "  0%|          | 0/25 [00:00<?, ?it/s]"
      ]
     },
     "metadata": {},
     "output_type": "display_data"
    },
    {
     "name": "stderr",
     "output_type": "stream",
     "text": [
      "The following part of your input was truncated because CLIP can only handle sequences up to 77 tokens: ['into the heart of paradise.']\n"
     ]
    },
    {
     "data": {
      "application/vnd.jupyter.widget-view+json": {
       "model_id": "021925414cd442129071538d8b21aa75",
       "version_major": 2,
       "version_minor": 0
      },
      "text/plain": [
       "  0%|          | 0/25 [00:00<?, ?it/s]"
      ]
     },
     "metadata": {},
     "output_type": "display_data"
    },
    {
     "data": {
      "application/vnd.jupyter.widget-view+json": {
       "model_id": "5124761cdb034bab98c378ec9285c31a",
       "version_major": 2,
       "version_minor": 0
      },
      "text/plain": [
       "  0%|          | 0/25 [00:00<?, ?it/s]"
      ]
     },
     "metadata": {},
     "output_type": "display_data"
    },
    {
     "name": "stderr",
     "output_type": "stream",
     "text": [
      "The following part of your input was truncated because CLIP can only handle sequences up to 77 tokens: ['tastes of mexico.']\n"
     ]
    },
    {
     "data": {
      "application/vnd.jupyter.widget-view+json": {
       "model_id": "f928634917f34afc91fd018eeb4fcd8c",
       "version_major": 2,
       "version_minor": 0
      },
      "text/plain": [
       "  0%|          | 0/25 [00:00<?, ?it/s]"
      ]
     },
     "metadata": {},
     "output_type": "display_data"
    },
    {
     "name": "stderr",
     "output_type": "stream",
     "text": [
      "The following part of your input was truncated because CLIP can only handle sequences up to 77 tokens: ['the diverse flavors and heritage of the nation.']\n"
     ]
    },
    {
     "data": {
      "application/vnd.jupyter.widget-view+json": {
       "model_id": "7401a6f3899f475e8f8ef9827c55274b",
       "version_major": 2,
       "version_minor": 0
      },
      "text/plain": [
       "  0%|          | 0/25 [00:00<?, ?it/s]"
      ]
     },
     "metadata": {},
     "output_type": "display_data"
    },
    {
     "name": "stderr",
     "output_type": "stream",
     "text": [
      "The following part of your input was truncated because CLIP can only handle sequences up to 77 tokens: ['que gastronomic experience.']\n"
     ]
    },
    {
     "data": {
      "application/vnd.jupyter.widget-view+json": {
       "model_id": "52a615c48e1e4d22915f755571d24f1a",
       "version_major": 2,
       "version_minor": 0
      },
      "text/plain": [
       "  0%|          | 0/25 [00:00<?, ?it/s]"
      ]
     },
     "metadata": {},
     "output_type": "display_data"
    },
    {
     "name": "stderr",
     "output_type": "stream",
     "text": [
      "The following part of your input was truncated because CLIP can only handle sequences up to 77 tokens: ['allowing guests to savor the flavors of the islands in a luxurious and elegant setting.']\n"
     ]
    },
    {
     "data": {
      "application/vnd.jupyter.widget-view+json": {
       "model_id": "27817bb30bec463cb9b7a70e07a5a4e2",
       "version_major": 2,
       "version_minor": 0
      },
      "text/plain": [
       "  0%|          | 0/25 [00:00<?, ?it/s]"
      ]
     },
     "metadata": {},
     "output_type": "display_data"
    },
    {
     "name": "stderr",
     "output_type": "stream",
     "text": [
      "The following part of your input was truncated because CLIP can only handle sequences up to 77 tokens: ['savor the essence of vietnamese cuisine.']\n"
     ]
    },
    {
     "data": {
      "application/vnd.jupyter.widget-view+json": {
       "model_id": "9fa0de04d4594a2db9c5891e4f077e17",
       "version_major": 2,
       "version_minor": 0
      },
      "text/plain": [
       "  0%|          | 0/25 [00:00<?, ?it/s]"
      ]
     },
     "metadata": {},
     "output_type": "display_data"
    },
    {
     "name": "stderr",
     "output_type": "stream",
     "text": [
      "The following part of your input was truncated because CLIP can only handle sequences up to 77 tokens: ['perfect backdrop for a truly unforgettable dining experience.']\n"
     ]
    },
    {
     "data": {
      "application/vnd.jupyter.widget-view+json": {
       "model_id": "f535475dd2014ee594499ed5e19eb164",
       "version_major": 2,
       "version_minor": 0
      },
      "text/plain": [
       "  0%|          | 0/25 [00:00<?, ?it/s]"
      ]
     },
     "metadata": {},
     "output_type": "display_data"
    },
    {
     "data": {
      "application/vnd.jupyter.widget-view+json": {
       "model_id": "177ec1be8a6a4667a629d8a77a29385e",
       "version_major": 2,
       "version_minor": 0
      },
      "text/plain": [
       "  0%|          | 0/25 [00:00<?, ?it/s]"
      ]
     },
     "metadata": {},
     "output_type": "display_data"
    },
    {
     "data": {
      "application/vnd.jupyter.widget-view+json": {
       "model_id": "1f59bb6d22484604b61e081191ac5c42",
       "version_major": 2,
       "version_minor": 0
      },
      "text/plain": [
       "  0%|          | 0/25 [00:00<?, ?it/s]"
      ]
     },
     "metadata": {},
     "output_type": "display_data"
    },
    {
     "data": {
      "application/vnd.jupyter.widget-view+json": {
       "model_id": "5638643fdd7b46bb8d7ea81a3358ba83",
       "version_major": 2,
       "version_minor": 0
      },
      "text/plain": [
       "  0%|          | 0/25 [00:00<?, ?it/s]"
      ]
     },
     "metadata": {},
     "output_type": "display_data"
    },
    {
     "name": "stderr",
     "output_type": "stream",
     "text": [
      "The following part of your input was truncated because CLIP can only handle sequences up to 77 tokens: ['with cutting - edge techniques that blur the line between science and culinary art.']\n"
     ]
    },
    {
     "data": {
      "application/vnd.jupyter.widget-view+json": {
       "model_id": "3b21e4e72de24ddf8271aebf55f82e72",
       "version_major": 2,
       "version_minor": 0
      },
      "text/plain": [
       "  0%|          | 0/25 [00:00<?, ?it/s]"
      ]
     },
     "metadata": {},
     "output_type": "display_data"
    },
    {
     "name": "stderr",
     "output_type": "stream",
     "text": [
      "The following part of your input was truncated because CLIP can only handle sequences up to 77 tokens: ['ingredients, masterfully crafted into a truly decadent feast.']\n"
     ]
    },
    {
     "data": {
      "application/vnd.jupyter.widget-view+json": {
       "model_id": "82d1391c9ff1472881e5a405a2037f55",
       "version_major": 2,
       "version_minor": 0
      },
      "text/plain": [
       "  0%|          | 0/25 [00:00<?, ?it/s]"
      ]
     },
     "metadata": {},
     "output_type": "display_data"
    },
    {
     "name": "stderr",
     "output_type": "stream",
     "text": [
      "The following part of your input was truncated because CLIP can only handle sequences up to 77 tokens: ['.']\n"
     ]
    },
    {
     "data": {
      "application/vnd.jupyter.widget-view+json": {
       "model_id": "d8cb7f34ddca47bd8483058a4074bd48",
       "version_major": 2,
       "version_minor": 0
      },
      "text/plain": [
       "  0%|          | 0/25 [00:00<?, ?it/s]"
      ]
     },
     "metadata": {},
     "output_type": "display_data"
    },
    {
     "name": "stderr",
     "output_type": "stream",
     "text": [
      "The following part of your input was truncated because CLIP can only handle sequences up to 77 tokens: ['traditional dishes, while an expert sommelier ensures the perfect wine pairings for a truly unforgettable dining experience.']\n"
     ]
    },
    {
     "data": {
      "application/vnd.jupyter.widget-view+json": {
       "model_id": "4bbef9dfefe1482f9961fd844a270055",
       "version_major": 2,
       "version_minor": 0
      },
      "text/plain": [
       "  0%|          | 0/25 [00:00<?, ?it/s]"
      ]
     },
     "metadata": {},
     "output_type": "display_data"
    },
    {
     "name": "stderr",
     "output_type": "stream",
     "text": [
      "The following part of your input was truncated because CLIP can only handle sequences up to 77 tokens: ['showcases the finest ingredients and innovative techniques, paired with a remarkable wine list for an unforgettable culinary journey.']\n"
     ]
    },
    {
     "data": {
      "application/vnd.jupyter.widget-view+json": {
       "model_id": "3c6d3be4ad4f4bdfbd2792b69a114272",
       "version_major": 2,
       "version_minor": 0
      },
      "text/plain": [
       "  0%|          | 0/25 [00:00<?, ?it/s]"
      ]
     },
     "metadata": {},
     "output_type": "display_data"
    },
    {
     "name": "stderr",
     "output_type": "stream",
     "text": [
      "The following part of your input was truncated because CLIP can only handle sequences up to 77 tokens: ['the finest local ingredients with korean culinary techniques for an unforgettable fusion feast.']\n"
     ]
    },
    {
     "data": {
      "application/vnd.jupyter.widget-view+json": {
       "model_id": "c7c04aee2b84401191d3c2c129b7d679",
       "version_major": 2,
       "version_minor": 0
      },
      "text/plain": [
       "  0%|          | 0/25 [00:00<?, ?it/s]"
      ]
     },
     "metadata": {},
     "output_type": "display_data"
    },
    {
     "name": "stderr",
     "output_type": "stream",
     "text": [
      "The following part of your input was truncated because CLIP can only handle sequences up to 77 tokens: ['a unique opportunity to dine under the stars.']\n"
     ]
    },
    {
     "data": {
      "application/vnd.jupyter.widget-view+json": {
       "model_id": "c1e82a60ca1847adaa27dcba86faa004",
       "version_major": 2,
       "version_minor": 0
      },
      "text/plain": [
       "  0%|          | 0/25 [00:00<?, ?it/s]"
      ]
     },
     "metadata": {},
     "output_type": "display_data"
    },
    {
     "name": "stderr",
     "output_type": "stream",
     "text": [
      "The following part of your input was truncated because CLIP can only handle sequences up to 77 tokens: ['a harmonious blend of flavors that will transport diners on a remarkable culinary journey.']\n"
     ]
    },
    {
     "data": {
      "application/vnd.jupyter.widget-view+json": {
       "model_id": "5b336edaedc54612ace420ead9936571",
       "version_major": 2,
       "version_minor": 0
      },
      "text/plain": [
       "  0%|          | 0/25 [00:00<?, ?it/s]"
      ]
     },
     "metadata": {},
     "output_type": "display_data"
    },
    {
     "name": "stderr",
     "output_type": "stream",
     "text": [
      "The following part of your input was truncated because CLIP can only handle sequences up to 77 tokens: ['destination for a truly unforgettable evening.']\n"
     ]
    },
    {
     "data": {
      "application/vnd.jupyter.widget-view+json": {
       "model_id": "d3c422b7277b4b2db561a449ec8fbcc8",
       "version_major": 2,
       "version_minor": 0
      },
      "text/plain": [
       "  0%|          | 0/25 [00:00<?, ?it/s]"
      ]
     },
     "metadata": {},
     "output_type": "display_data"
    },
    {
     "name": "stderr",
     "output_type": "stream",
     "text": [
      "The following part of your input was truncated because CLIP can only handle sequences up to 77 tokens: [\", showcasing the diverse flavors of the country's rich culinary heritage.\"]\n"
     ]
    },
    {
     "data": {
      "application/vnd.jupyter.widget-view+json": {
       "model_id": "7ab7d940e3ae49d5b8d0257278dda3a5",
       "version_major": 2,
       "version_minor": 0
      },
      "text/plain": [
       "  0%|          | 0/25 [00:00<?, ?it/s]"
      ]
     },
     "metadata": {},
     "output_type": "display_data"
    },
    {
     "name": "stderr",
     "output_type": "stream",
     "text": [
      "The following part of your input was truncated because CLIP can only handle sequences up to 77 tokens: ['and cava.']\n"
     ]
    },
    {
     "data": {
      "application/vnd.jupyter.widget-view+json": {
       "model_id": "ace7124981624589999339b23aad9124",
       "version_major": 2,
       "version_minor": 0
      },
      "text/plain": [
       "  0%|          | 0/25 [00:00<?, ?it/s]"
      ]
     },
     "metadata": {},
     "output_type": "display_data"
    },
    {
     "name": "stderr",
     "output_type": "stream",
     "text": [
      "The following part of your input was truncated because CLIP can only handle sequences up to 77 tokens: ['each course is paired with a carefully selected wine, enhancing the flavors and providing a truly unforgettable dining experience.']\n"
     ]
    },
    {
     "data": {
      "application/vnd.jupyter.widget-view+json": {
       "model_id": "85e1eaa7c86c406f910bb8bcc63703a7",
       "version_major": 2,
       "version_minor": 0
      },
      "text/plain": [
       "  0%|          | 0/25 [00:00<?, ?it/s]"
      ]
     },
     "metadata": {},
     "output_type": "display_data"
    },
    {
     "name": "stderr",
     "output_type": "stream",
     "text": [
      "The following part of your input was truncated because CLIP can only handle sequences up to 77 tokens: ['sophisticated menu, created by chef pierre gagnaire, showcases classic french cuisine with a modern twist, using the finest ingredients like caviar, truffles, and foie gras. the impeccable, attentive service and extensive wine list, including rare vintages and exclusive labels, complete the unforgettable dining experience at the imperial room.']\n"
     ]
    },
    {
     "data": {
      "application/vnd.jupyter.widget-view+json": {
       "model_id": "d3097c5fe18b436cacbd45c4c5c88e7b",
       "version_major": 2,
       "version_minor": 0
      },
      "text/plain": [
       "  0%|          | 0/25 [00:00<?, ?it/s]"
      ]
     },
     "metadata": {},
     "output_type": "display_data"
    },
    {
     "data": {
      "text/plain": [
       "0     None\n",
       "1     None\n",
       "2     None\n",
       "3     None\n",
       "4     None\n",
       "5     None\n",
       "6     None\n",
       "7     None\n",
       "8     None\n",
       "9     None\n",
       "10    None\n",
       "11    None\n",
       "12    None\n",
       "13    None\n",
       "14    None\n",
       "15    None\n",
       "16    None\n",
       "17    None\n",
       "18    None\n",
       "19    None\n",
       "20    None\n",
       "21    None\n",
       "22    None\n",
       "23    None\n",
       "24    None\n",
       "25    None\n",
       "26    None\n",
       "27    None\n",
       "28    None\n",
       "29    None\n",
       "30    None\n",
       "31    None\n",
       "32    None\n",
       "33    None\n",
       "34    None\n",
       "35    None\n",
       "36    None\n",
       "37    None\n",
       "38    None\n",
       "39    None\n",
       "40    None\n",
       "41    None\n",
       "dtype: object"
      ]
     },
     "execution_count": 8,
     "metadata": {},
     "output_type": "execute_result"
    }
   ],
   "source": [
    "from tqdm.auto import tqdm\n",
    "\n",
    "tqdm.pandas()\n",
    "\n",
    "prompt_df.progress_apply(lambda row: from_prompt_to_file(row['prompt'], row['filename']), axis=1)"
   ]
  },
  {
   "cell_type": "code",
   "execution_count": null,
   "id": "9f737a61",
   "metadata": {},
   "outputs": [],
   "source": []
  }
 ],
 "metadata": {
  "kernelspec": {
   "display_name": "Python 3 (ipykernel)",
   "language": "python",
   "name": "python3"
  },
  "language_info": {
   "codemirror_mode": {
    "name": "ipython",
    "version": 3
   },
   "file_extension": ".py",
   "mimetype": "text/x-python",
   "name": "python",
   "nbconvert_exporter": "python",
   "pygments_lexer": "ipython3",
   "version": "3.10.12"
  }
 },
 "nbformat": 4,
 "nbformat_minor": 5
}
